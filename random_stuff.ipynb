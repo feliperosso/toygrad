{
 "cells": [
  {
   "cell_type": "code",
   "execution_count": null,
   "metadata": {},
   "outputs": [],
   "source": []
  }
 ],
 "metadata": {
  "kernelspec": {
   "display_name": "Python 3.9.13 ('base')",
   "language": "python",
   "name": "python3"
  },
  "language_info": {
   "name": "python",
   "version": "3.9.13"
  },
  "orig_nbformat": 4,
  "vscode": {
   "interpreter": {
    "hash": "494a86e8aa439212fafd9bb78ed376cbfc46178bff14132341b0aaebde3db49f"
   }
  }
 },
 "nbformat": 4,
 "nbformat_minor": 2
}
