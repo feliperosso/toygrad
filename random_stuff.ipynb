{
 "cells": [
  {
   "cell_type": "code",
   "execution_count": 1,
   "metadata": {},
   "outputs": [],
   "source": [
    "import numpy as np\n",
    "import matplotlib.pyplot as plt\n",
    "import gymnasium as gym\n",
    "from toygrad.nn.models import PongPolicy"
   ]
  },
  {
   "cell_type": "code",
   "execution_count": 3,
   "metadata": {},
   "outputs": [
    {
     "name": "stdout",
     "output_type": "stream",
     "text": [
      "The policy has 1,024,401 learnable parameters.\n"
     ]
    }
   ],
   "source": [
    "# Initialize policy\n",
    "policy = PongPolicy(hid_dim=200)\n",
    "policy.play(tot_num_points=24)"
   ]
  },
  {
   "cell_type": "code",
   "execution_count": 25,
   "metadata": {},
   "outputs": [],
   "source": [
    "# Train!\n",
    "\n",
    "# Initialize environment\n",
    "env = gym.make(\"ALE/Pong-v5\", render_mode=\"human\")\n",
    "cur_obs = env.reset()[0]\n",
    "prev_obs = None\n",
    "\n",
    "store_grads = []\n",
    "\n",
    "# Compute action\n",
    "policy_input, prev_obs = policy.pre_process(cur_obs, prev_obs)\n",
    "policy_prob = policy(policy_input).sigmoid()\n",
    "# Sample from policy_prob\n",
    "action = 2 if np.random.uniform() < policy_prob.item else 3 \n",
    "\n",
    "# Compute and store gradients\n",
    "policy_prob.backward(np.ones(1, ))\n",
    "temp = []\n",
    "for p in policy.parameters:\n",
    "    temp.append(p.grad)\n",
    "store_grads.append(temp)\n",
    "\n"
   ]
  }
 ],
 "metadata": {
  "kernelspec": {
   "display_name": "Python 3.9.13 ('base')",
   "language": "python",
   "name": "python3"
  },
  "language_info": {
   "codemirror_mode": {
    "name": "ipython",
    "version": 3
   },
   "file_extension": ".py",
   "mimetype": "text/x-python",
   "name": "python",
   "nbconvert_exporter": "python",
   "pygments_lexer": "ipython3",
   "version": "3.9.13"
  },
  "orig_nbformat": 4,
  "vscode": {
   "interpreter": {
    "hash": "494a86e8aa439212fafd9bb78ed376cbfc46178bff14132341b0aaebde3db49f"
   }
  }
 },
 "nbformat": 4,
 "nbformat_minor": 2
}
