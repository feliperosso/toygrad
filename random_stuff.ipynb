{
 "cells": [
  {
   "cell_type": "code",
   "execution_count": 4,
   "metadata": {},
   "outputs": [
    {
     "data": {
      "text/plain": [
       "torch.Size([2, 1, 11, 12])"
      ]
     },
     "execution_count": 4,
     "metadata": {},
     "output_type": "execute_result"
    }
   ],
   "source": [
    "import torch\n",
    "import numpy as np\n",
    "\n",
    "# Parameters\n",
    "batch_size = 2\n",
    "in_channels = 3\n",
    "out_channels = 1\n",
    "im_height, im_width = 14, 16\n",
    "fi_height, fi_width = 4, 5\n",
    "\n",
    "# - Torch -\n",
    "input = torch.rand(batch_size, in_channels, im_height, im_width)\n",
    "filter = torch.rand(out_channels, in_channels, fi_height, fi_width)\n",
    "out = torch.nn.functional.conv2d(input, filter, stride=1, padding=0)\n",
    "\n"
   ]
  }
 ],
 "metadata": {
  "kernelspec": {
   "display_name": "Python 3.9.13 ('base')",
   "language": "python",
   "name": "python3"
  },
  "language_info": {
   "codemirror_mode": {
    "name": "ipython",
    "version": 3
   },
   "file_extension": ".py",
   "mimetype": "text/x-python",
   "name": "python",
   "nbconvert_exporter": "python",
   "pygments_lexer": "ipython3",
   "version": "3.9.13"
  },
  "orig_nbformat": 4,
  "vscode": {
   "interpreter": {
    "hash": "494a86e8aa439212fafd9bb78ed376cbfc46178bff14132341b0aaebde3db49f"
   }
  }
 },
 "nbformat": 4,
 "nbformat_minor": 2
}
