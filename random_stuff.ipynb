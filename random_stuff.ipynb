{
 "cells": [
  {
   "cell_type": "code",
   "execution_count": 4,
   "metadata": {},
   "outputs": [
    {
     "data": {
      "text/plain": [
       "torch.Size([2, 1, 11, 12])"
      ]
     },
     "execution_count": 4,
     "metadata": {},
     "output_type": "execute_result"
    }
   ],
   "source": [
    "import torch\n",
    "import numpy as np\n",
    "\n",
    "# Parameters\n",
    "batch_size = 2\n",
    "in_channels = 3\n",
    "out_channels = 1\n",
    "im_height, im_width = 14, 16\n",
    "fi_height, fi_width = 4, 5\n",
    "\n",
    "# - Torch -\n",
    "input = torch.rand(batch_size, in_channels, im_height, im_width)\n",
    "filter = torch.rand(out_channels, in_channels, fi_height, fi_width)\n",
    "out = torch.nn.functional.conv2d(input, filter, stride=1, padding=0)\n",
    "\n"
   ]
  },
  {
   "cell_type": "code",
   "execution_count": 50,
   "metadata": {},
   "outputs": [
    {
     "data": {
      "text/plain": [
       "tensor(0., dtype=torch.float64)"
      ]
     },
     "execution_count": 50,
     "metadata": {},
     "output_type": "execute_result"
    }
   ],
   "source": [
    "# Load Packages\n",
    "import torch\n",
    "import numpy as np\n",
    "\n",
    "size = (8, 6, 1, 8, 3, 4, 6)\n",
    "axis = (0, 4, 2)\n",
    "\n",
    "# Input\n",
    "x = np.random.uniform(-1, 1, size)\n",
    "out = x.sum(axis)\n",
    "grad = np.random.uniform(-1, 1, out.shape)\n",
    "\n",
    "# - torch -\n",
    "x_T = torch.from_numpy(x).requires_grad_(True)\n",
    "out_T = x_T.sum(dim=axis)\n",
    "grad_T = torch.from_numpy(grad)\n",
    "out_T.backward(grad_T)\n",
    "\n",
    "\n",
    "ss = list(size)\n",
    "for d in axis:\n",
    "    ss[d] = 1\n",
    "\n",
    "torch.max(torch.broadcast_to(grad_T.reshape(ss), size) - x_T.grad)"
   ]
  },
  {
   "cell_type": "code",
   "execution_count": 53,
   "metadata": {},
   "outputs": [
    {
     "data": {
      "text/plain": [
       "(0, 1, 2, 3, 4, 5, 6)"
      ]
     },
     "execution_count": 53,
     "metadata": {},
     "output_type": "execute_result"
    }
   ],
   "source": [
    "len(size)\n",
    "tuple(range(len(size)))"
   ]
  }
 ],
 "metadata": {
  "kernelspec": {
   "display_name": "Python 3.9.13 ('base')",
   "language": "python",
   "name": "python3"
  },
  "language_info": {
   "codemirror_mode": {
    "name": "ipython",
    "version": 3
   },
   "file_extension": ".py",
   "mimetype": "text/x-python",
   "name": "python",
   "nbconvert_exporter": "python",
   "pygments_lexer": "ipython3",
   "version": "3.9.13"
  },
  "orig_nbformat": 4,
  "vscode": {
   "interpreter": {
    "hash": "494a86e8aa439212fafd9bb78ed376cbfc46178bff14132341b0aaebde3db49f"
   }
  }
 },
 "nbformat": 4,
 "nbformat_minor": 2
}
